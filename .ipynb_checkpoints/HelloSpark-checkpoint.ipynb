{
 "cells": [
  {
   "cell_type": "code",
   "execution_count": 23,
   "metadata": {},
   "outputs": [],
   "source": [
    "'''spark를 멈추는 메소드'''\n",
    "# sc.stop()"
   ]
  },
  {
   "cell_type": "code",
   "execution_count": 21,
   "metadata": {},
   "outputs": [],
   "source": [
    "import pyspark\n",
    "from pyspark import SparkContext\n",
    "sc = SparkContext()"
   ]
  },
  {
   "cell_type": "code",
   "execution_count": 22,
   "metadata": {},
   "outputs": [
    {
     "data": {
      "text/plain": [
       "/example/LICENSE MapPartitionsRDD[1] at textFile at NativeMethodAccessorImpl.java:0"
      ]
     },
     "execution_count": 22,
     "metadata": {},
     "output_type": "execute_result"
    }
   ],
   "source": [
    "licLines = sc.textFile(\"/example/LICENSE\")\n",
    "licLines"
   ]
  },
  {
   "cell_type": "code",
   "execution_count": 3,
   "metadata": {},
   "outputs": [
    {
     "data": {
      "text/plain": [
       "582"
      ]
     },
     "execution_count": 3,
     "metadata": {},
     "output_type": "execute_result"
    }
   ],
   "source": [
    "lineCnt = licLines.count()\n",
    "print(lineCnt)"
   ]
  },
  {
   "cell_type": "code",
   "execution_count": 5,
   "metadata": {},
   "outputs": [
    {
     "name": "stdout",
     "output_type": "stream",
     "text": [
      "['BSD 2-Clause', 'BSD 3-Clause', 'is distributed under the 3-Clause BSD license.'] \n",
      "\n",
      "bsdLines RDD에 들어있는 요소의 개수 : 3\n"
     ]
    }
   ],
   "source": [
    "bsdLines = licLines.filter(lambda line: \"BSD\" in line)\n",
    "bsdLines_list = bsdLines.collect()\n",
    "print(bsdLines_list, \"\\n\")\n",
    "print(\"bsdLines RDD에 들어있는 요소의 개수 :\", bsdLines.count())"
   ]
  },
  {
   "cell_type": "code",
   "execution_count": 8,
   "metadata": {},
   "outputs": [
    {
     "data": {
      "text/plain": [
       "3"
      ]
     },
     "execution_count": 8,
     "metadata": {},
     "output_type": "execute_result"
    }
   ],
   "source": [
    "#  'filter()'메소드에 무조건 lambda함수 넘겨줄 필요는 없음, 이처럼 제대로 정의된 함수를 해당 메소드에 넘겨줄 수도 있음\n",
    "def isBSD(line):\n",
    "    return \"BSD\" in line\n",
    "bsdLines1 = licLines.filter(isBSD)\n",
    "bsdLines1.count()"
   ]
  },
  {
   "cell_type": "code",
   "execution_count": 9,
   "metadata": {},
   "outputs": [
    {
     "name": "stdout",
     "output_type": "stream",
     "text": [
      "BSD 2-Clause\n",
      "BSD 3-Clause\n",
      "is distributed under the 3-Clause BSD license.\n"
     ]
    }
   ],
   "source": [
    "for line in bsdLines1.collect():\n",
    "    print(line)"
   ]
  },
  {
   "cell_type": "code",
   "execution_count": 6,
   "metadata": {},
   "outputs": [
    {
     "name": "stdout",
     "output_type": "stream",
     "text": [
      "[10, 20, 30, 40, 50]\n"
     ]
    }
   ],
   "source": [
    "# 외부 파일을 불러와서 이에 대한 RDD 객체를 생성하는 것 말고, 이처럼 직접 데이터를 생성하여 이에 대한 RDD객체를 생성할 수도 있음\n",
    "# 직접 생성한 데이터에 대한 RDD를 만들려면, 'parallelize()'메소드를 사용해야함\n",
    "numbers = sc.parallelize(range(10, 51, 10))\n",
    "print(numbers.collect())"
   ]
  },
  {
   "cell_type": "code",
   "execution_count": 7,
   "metadata": {},
   "outputs": [
    {
     "name": "stdout",
     "output_type": "stream",
     "text": [
      "100\n",
      "400\n",
      "900\n",
      "1600\n",
      "2500\n"
     ]
    }
   ],
   "source": [
    "# 'numbers' RDD객체를 transformation하여 새로운 RDD 객체를 생성\n",
    "# 새롭게 생성되는 'numbersSquared' RDD에는 'numbers' RDD 내 요소들에 제곱된 값들이 요소로써 들어가게 됨\n",
    "numbersSquared = numbers.map(lambda num: num * num)\n",
    "for i in numbersSquared.collect():\n",
    "    \n",
    "    print(i)"
   ]
  },
  {
   "cell_type": "code",
   "execution_count": 15,
   "metadata": {},
   "outputs": [
    {
     "name": "stdout",
     "output_type": "stream",
     "text": [
      "numbers RDD객체에 들어있는 요소들 :\n",
      "15\n",
      "16\n",
      "20\n",
      "20\n",
      "7\n",
      "80\n",
      "94\n",
      "94\n",
      "98\n",
      "16\n",
      "31\n",
      "31\n",
      "15\n",
      "20\n",
      "\n",
      "\n",
      "요소 개수 : 14\n",
      "요소들의 합 : 557\n",
      "요소들의 평균 : 39.785714285714285\n",
      "요소들의 표준편차 : 33.4326157504669 \n",
      "\n",
      "요소들에 대한 histogram : ([0, 10, 20, 30, 40, 50, 60, 70, 80, 90, 100], [1, 4, 3, 2, 0, 0, 0, 0, 1, 3])\n"
     ]
    }
   ],
   "source": [
    "numbers = sc.parallelize([15,16,20,20,7,80,94,94,98,16,31,31,15,20])\n",
    "print(\"numbers RDD객체에 들어있는 요소들 :\")\n",
    "for i in numbers.collect():\n",
    "    \n",
    "    print(i)\n",
    "print(\"\\n\")\n",
    "\n",
    "\n",
    "print(\"요소 개수 :\", numbers.count())\n",
    "print(\"요소들의 합 :\", numbers.sum())\n",
    "print(\"요소들의 평균 :\", numbers.mean())\n",
    "print(\"요소들의 표준편차 :\", numbers.stdev(), \"\\n\")\n",
    "\n",
    "print(\"요소들에 대한 histogram :\", numbers.histogram([0, 10,20,30,40,50,60,70,80,90,100]))"
   ]
  }
 ],
 "metadata": {
  "kernelspec": {
   "display_name": "Python 3",
   "language": "python",
   "name": "python3"
  },
  "language_info": {
   "codemirror_mode": {
    "name": "ipython",
    "version": 3
   },
   "file_extension": ".py",
   "mimetype": "text/x-python",
   "name": "python",
   "nbconvert_exporter": "python",
   "pygments_lexer": "ipython3",
   "version": "3.8.3"
  }
 },
 "nbformat": 4,
 "nbformat_minor": 4
}
