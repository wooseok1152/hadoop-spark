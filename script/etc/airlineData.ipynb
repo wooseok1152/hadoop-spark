{
 "cells": [
  {
   "cell_type": "code",
   "execution_count": 1,
   "metadata": {},
   "outputs": [],
   "source": [
    "import pyspark \n",
    "from pyspark import SparkContext \n",
    "sc = SparkContext()\n",
    "from pyspark.sql import SparkSession\n",
    "spark = SparkSession.builder.master('yarn').appName('').getOrCreate()       "
   ]
  },
  {
   "cell_type": "code",
   "execution_count": 3,
   "metadata": {},
   "outputs": [],
   "source": [
    "airports = spark.read.csv(\"/example/airlineData_airport_codes_na.txt\", header = True, inferSchema = True, sep='\\t')\n",
    "airports.createOrReplaceTempView(\"airports\")"
   ]
  },
  {
   "cell_type": "code",
   "execution_count": 4,
   "metadata": {},
   "outputs": [
    {
     "name": "stdout",
     "output_type": "stream",
     "text": [
      "+-----------+-----+-------+----+\n",
      "|       City|State|Country|IATA|\n",
      "+-----------+-----+-------+----+\n",
      "| Abbotsford|   BC| Canada| YXX|\n",
      "|   Aberdeen|   SD|    USA| ABR|\n",
      "|    Abilene|   TX|    USA| ABI|\n",
      "|      Akron|   OH|    USA| CAK|\n",
      "|    Alamosa|   CO|    USA| ALS|\n",
      "|     Albany|   GA|    USA| ABY|\n",
      "|     Albany|   NY|    USA| ALB|\n",
      "|Albuquerque|   NM|    USA| ABQ|\n",
      "| Alexandria|   LA|    USA| AEX|\n",
      "|  Allentown|   PA|    USA| ABE|\n",
      "|   Alliance|   NE|    USA| AIA|\n",
      "|     Alpena|   MI|    USA| APN|\n",
      "|    Altoona|   PA|    USA| AOO|\n",
      "|   Amarillo|   TX|    USA| AMA|\n",
      "|Anahim Lake|   BC| Canada| YAA|\n",
      "|  Anchorage|   AK|    USA| ANC|\n",
      "|   Appleton|   WI|    USA| ATW|\n",
      "|     Arviat|  NWT| Canada| YEK|\n",
      "|  Asheville|   NC|    USA| AVL|\n",
      "|      Aspen|   CO|    USA| ASE|\n",
      "+-----------+-----+-------+----+\n",
      "only showing top 20 rows\n",
      "\n"
     ]
    }
   ],
   "source": [
    "airports.show()"
   ]
  },
  {
   "cell_type": "code",
   "execution_count": 5,
   "metadata": {},
   "outputs": [],
   "source": [
    "flightPerf = spark.read.csv(\"/example/airlineData_departure_delays.csv\", header = True)\n",
    "flightPerf.createOrReplaceTempView(\"FlightPerformance\")"
   ]
  },
  {
   "cell_type": "code",
   "execution_count": 7,
   "metadata": {},
   "outputs": [
    {
     "name": "stdout",
     "output_type": "stream",
     "text": [
      "+-----------+\n",
      "|       city|\n",
      "+-----------+\n",
      "|      Pasco|\n",
      "|  Wenatchee|\n",
      "| Bellingham|\n",
      "|     Yakima|\n",
      "|    Seattle|\n",
      "|    Pullman|\n",
      "|    Spokane|\n",
      "| Moses Lake|\n",
      "|Walla Walla|\n",
      "+-----------+\n",
      "\n"
     ]
    }
   ],
   "source": [
    "# 워싱턴 주에 있는 공항 추출하기\n",
    "spark.sql(\"select distinct city from airports where state='WA'\").show()"
   ]
  },
  {
   "cell_type": "code",
   "execution_count": 8,
   "metadata": {},
   "outputs": [
    {
     "data": {
      "text/plain": [
       "[Row(state='WA', City='Seattle', origin='SEA', destination='PHL'),\n",
       " Row(state='WA', City='Seattle', origin='SEA', destination='DEN'),\n",
       " Row(state='WA', City='Seattle', origin='SEA', destination='SMF'),\n",
       " Row(state='WA', City='Seattle', origin='SEA', destination='HDN'),\n",
       " Row(state='WA', City='Seattle', origin='SEA', destination='LAS'),\n",
       " Row(state='WA', City='Seattle', origin='SEA', destination='RNO'),\n",
       " Row(state='WA', City='Seattle', origin='SEA', destination='JAC'),\n",
       " Row(state='WA', City='Seattle', origin='SEA', destination='BOS'),\n",
       " Row(state='WA', City='Seattle', origin='SEA', destination='JFK'),\n",
       " Row(state='WA', City='Seattle', origin='SEA', destination='OAK'),\n",
       " Row(state='WA', City='Seattle', origin='SEA', destination='ABQ'),\n",
       " Row(state='WA', City='Seattle', origin='SEA', destination='LAX'),\n",
       " Row(state='WA', City='Spokane', origin='GEG', destination='SEA'),\n",
       " Row(state='WA', City='Seattle', origin='SEA', destination='SBA'),\n",
       " Row(state='WA', City='Seattle', origin='SEA', destination='KOA'),\n",
       " Row(state='WA', City='Seattle', origin='SEA', destination='DTW'),\n",
       " Row(state='WA', City='Seattle', origin='SEA', destination='HNL'),\n",
       " Row(state='WA', City='Spokane', origin='GEG', destination='BOI'),\n",
       " Row(state='WA', City='Seattle', origin='SEA', destination='IAH'),\n",
       " Row(state='WA', City='Seattle', origin='SEA', destination='PDX'),\n",
       " Row(state='WA', City='Spokane', origin='GEG', destination='PHX'),\n",
       " Row(state='WA', City='Seattle', origin='SEA', destination='EWR'),\n",
       " Row(state='WA', City='Seattle', origin='SEA', destination='SAT'),\n",
       " Row(state='WA', City='Seattle', origin='SEA', destination='FAI'),\n",
       " Row(state='WA', City='Seattle', origin='SEA', destination='ONT'),\n",
       " Row(state='WA', City='Seattle', origin='SEA', destination='STL'),\n",
       " Row(state='WA', City='Pasco', origin='PSC', destination='SFO'),\n",
       " Row(state='WA', City='Seattle', origin='SEA', destination='OMA'),\n",
       " Row(state='WA', City='Seattle', origin='SEA', destination='CVG'),\n",
       " Row(state='WA', City='Seattle', origin='SEA', destination='FAT'),\n",
       " Row(state='WA', City='Seattle', origin='SEA', destination='MSP'),\n",
       " Row(state='WA', City='Seattle', origin='SEA', destination='BUR'),\n",
       " Row(state='WA', City='Seattle', origin='SEA', destination='PSP'),\n",
       " Row(state='WA', City='Seattle', origin='SEA', destination='IAD'),\n",
       " Row(state='WA', City='Seattle', origin='SEA', destination='SAN'),\n",
       " Row(state='WA', City='Seattle', origin='SEA', destination='FLL'),\n",
       " Row(state='WA', City='Spokane', origin='GEG', destination='OAK'),\n",
       " Row(state='WA', City='Seattle', origin='SEA', destination='SNA'),\n",
       " Row(state='WA', City='Pasco', origin='PSC', destination='SLC'),\n",
       " Row(state='WA', City='Seattle', origin='SEA', destination='TUS'),\n",
       " Row(state='WA', City='Seattle', origin='SEA', destination='SJC'),\n",
       " Row(state='WA', City='Spokane', origin='GEG', destination='MSP'),\n",
       " Row(state='WA', City='Spokane', origin='GEG', destination='LAX'),\n",
       " Row(state='WA', City='Seattle', origin='SEA', destination='AUS'),\n",
       " Row(state='WA', City='Seattle', origin='SEA', destination='CLT'),\n",
       " Row(state='WA', City='Seattle', origin='SEA', destination='LGB'),\n",
       " Row(state='WA', City='Seattle', origin='SEA', destination='MIA'),\n",
       " Row(state='WA', City='Seattle', origin='SEA', destination='KTN'),\n",
       " Row(state='WA', City='Seattle', origin='SEA', destination='LIH'),\n",
       " Row(state='WA', City='Seattle', origin='SEA', destination='PHX'),\n",
       " Row(state='WA', City='Seattle', origin='SEA', destination='ORD'),\n",
       " Row(state='WA', City='Seattle', origin='SEA', destination='MCI'),\n",
       " Row(state='WA', City='Seattle', origin='SEA', destination='ATL'),\n",
       " Row(state='WA', City='Seattle', origin='SEA', destination='DCA'),\n",
       " Row(state='WA', City='Seattle', origin='SEA', destination='MCO'),\n",
       " Row(state='WA', City='Seattle', origin='SEA', destination='SLC'),\n",
       " Row(state='WA', City='Pasco', origin='PSC', destination='DEN'),\n",
       " Row(state='WA', City='Spokane', origin='GEG', destination='LAS'),\n",
       " Row(state='WA', City='Seattle', origin='SEA', destination='MDW'),\n",
       " Row(state='WA', City='Seattle', origin='SEA', destination='DFW'),\n",
       " Row(state='WA', City='Seattle', origin='SEA', destination='SFO'),\n",
       " Row(state='WA', City='Seattle', origin='SEA', destination='CLE'),\n",
       " Row(state='WA', City='Spokane', origin='GEG', destination='DEN'),\n",
       " Row(state='WA', City='Seattle', origin='SEA', destination='MKE'),\n",
       " Row(state='WA', City='Seattle', origin='SEA', destination='JNU'),\n",
       " Row(state='WA', City='Seattle', origin='SEA', destination='COS'),\n",
       " Row(state='WA', City='Seattle', origin='SEA', destination='GEG'),\n",
       " Row(state='WA', City='Seattle', origin='SEA', destination='ANC'),\n",
       " Row(state='WA', City='Spokane', origin='GEG', destination='SLC'),\n",
       " Row(state='WA', City='Seattle', origin='SEA', destination='OGG')]"
      ]
     },
     "execution_count": 8,
     "metadata": {},
     "output_type": "execute_result"
    }
   ],
   "source": [
    "# 워싱턴 주에 있는 공항에서 출발한 건을 나열하기\n",
    "spark.sql(\"select distinct a.state, a.City, f.origin, f.destination from FlightPerformance f join airports a on a.IATA = f.origin where a.State = 'WA'\").collect()\n"
   ]
  },
  {
   "cell_type": "code",
   "execution_count": 10,
   "metadata": {},
   "outputs": [
    {
     "name": "stdout",
     "output_type": "stream",
     "text": [
      "+-------+------+--------+\n",
      "|   City|origin|  Delays|\n",
      "+-------+------+--------+\n",
      "|Seattle|   SEA|159086.0|\n",
      "|Spokane|   GEG| 12404.0|\n",
      "|  Pasco|   PSC|   949.0|\n",
      "+-------+------+--------+\n",
      "\n"
     ]
    }
   ],
   "source": [
    "# 위 건의 연착시간의 합을 출발지 별로 구하기\n",
    "spark.sql(\"select a.City, f.origin, sum(f.delay) as Delays from FlightPerformance f join airports a on a.IATA = f.origin where a.State = 'WA' group by a.City, f.origin order by sum(f.delay) desc\").show()\n"
   ]
  }
 ],
 "metadata": {
  "kernelspec": {
   "display_name": "Python 3",
   "language": "python",
   "name": "python3"
  },
  "language_info": {
   "codemirror_mode": {
    "name": "ipython",
    "version": 3
   },
   "file_extension": ".py",
   "mimetype": "text/x-python",
   "name": "python",
   "nbconvert_exporter": "python",
   "pygments_lexer": "ipython3",
   "version": "3.7.1"
  }
 },
 "nbformat": 4,
 "nbformat_minor": 4
}
