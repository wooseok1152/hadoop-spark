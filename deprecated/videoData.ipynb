{
 "cells": [
  {
   "cell_type": "code",
   "execution_count": 6,
   "metadata": {},
   "outputs": [],
   "source": [
    "'''spark를 멈추는 메소드'''\n",
    "# sc.stop()"
   ]
  },
  {
   "cell_type": "code",
   "execution_count": 7,
   "metadata": {},
   "outputs": [],
   "source": [
    "import pyspark \n",
    "from pyspark import SparkContext \n",
    "sc = SparkContext()\n",
    "from pyspark.sql import SparkSession\n",
    "spark = SparkSession.builder.master('yarn').appName('').getOrCreate()       \n"
   ]
  },
  {
   "cell_type": "code",
   "execution_count": 8,
   "metadata": {},
   "outputs": [],
   "source": [
    "# 'SparkSession.read.json()'은 dataframe을 반환함\n",
    "videoJSON = spark.read.json(\"/example/videodata.json\")\n",
    "# 'SparkSession.sql()'을 통해 sql문을 작성할 때 해당 dataframe 객체를 table로 인식하게 만들기 위해 다음 코드를 입력함\n",
    "videoJSON.createOrReplaceTempView(\"videoJSON\")"
   ]
  },
  {
   "cell_type": "code",
   "execution_count": 10,
   "metadata": {},
   "outputs": [
    {
     "data": {
      "text/plain": [
       "DataFrame[customer_id: bigint, show_id: bigint, state: string, timestamp: bigint]"
      ]
     },
     "execution_count": 10,
     "metadata": {},
     "output_type": "execute_result"
    }
   ],
   "source": [
    "videoJSON"
   ]
  },
  {
   "cell_type": "code",
   "execution_count": 15,
   "metadata": {},
   "outputs": [
    {
     "name": "stdout",
     "output_type": "stream",
     "text": [
      "+-----------+-------+-----------------+----------+\n",
      "|customer_id|show_id|state            |timestamp |\n",
      "+-----------+-------+-----------------+----------+\n",
      "|24         |308    |open             |1510505885|\n",
      "|78         |580    |open             |1510505888|\n",
      "|84         |378    |open             |1510505895|\n",
      "|71         |830    |open             |1510505898|\n",
      "|64         |473    |open             |1510505903|\n",
      "|58         |648    |open             |1510505908|\n",
      "|25         |842    |open             |1510505915|\n",
      "|67         |628    |open             |1510505919|\n",
      "|57         |721    |open             |1510505923|\n",
      "|54         |729    |open             |1510505930|\n",
      "|38         |107    |open             |1510505933|\n",
      "|79         |788    |open             |1510505940|\n",
      "|33         |841    |open             |1510505941|\n",
      "|46         |566    |open             |1510505946|\n",
      "|25         |842    |finish_completed |1510505952|\n",
      "|76         |91     |open             |1510505959|\n",
      "|90         |707    |open             |1510505965|\n",
      "|85         |413    |open             |1510505966|\n",
      "|4          |200    |open             |1510505975|\n",
      "|81         |45     |open             |1510505979|\n",
      "|70         |524    |open             |1510505984|\n",
      "|92         |568    |open             |1510505988|\n",
      "|21         |576    |open             |1510505993|\n",
      "|29         |557    |open             |1510505999|\n",
      "|43         |43     |open             |1510506004|\n",
      "|64         |340    |open             |1510506008|\n",
      "|64         |473    |open             |1510506006|\n",
      "|35         |310    |open             |1510506014|\n",
      "|9          |137    |open             |1510506016|\n",
      "|71         |333    |open             |1510506023|\n",
      "|71         |830    |open             |1510506021|\n",
      "|39         |52     |open             |1510506030|\n",
      "|74         |608    |open             |1510506031|\n",
      "|34         |233    |open             |1510506036|\n",
      "|1          |693    |open             |1510506044|\n",
      "|4          |677    |open             |1510506046|\n",
      "|4          |677    |open             |1510506048|\n",
      "|29         |789    |open             |1510506053|\n",
      "|29         |789    |open             |1510506052|\n",
      "|88         |346    |open             |1510506060|\n",
      "|26         |713    |open             |1510506065|\n",
      "|43         |43     |finish_incomplete|1510506066|\n",
      "|14         |584    |open             |1510506073|\n",
      "|2          |634    |open             |1510506080|\n",
      "|19         |947    |open             |1510506081|\n",
      "|0          |574    |open             |1510506090|\n",
      "|50         |514    |open             |1510506095|\n",
      "|71         |426    |open             |1510506100|\n",
      "|71         |333    |open             |1510506097|\n",
      "|50         |514    |finish_incomplete|1510506101|\n",
      "|82         |780    |open             |1510506110|\n",
      "|39         |998    |heartbeat        |1510506113|\n",
      "|44         |656    |open             |1510506118|\n",
      "|10         |917    |open             |1510506125|\n",
      "|74         |562    |open             |1510506128|\n",
      "|74         |608    |open             |1510506129|\n",
      "|3          |24     |open             |1510506135|\n",
      "|0          |574    |finish_incomplete|1510506136|\n",
      "|46         |566    |finish_completed |1510506144|\n",
      "|2          |983    |heartbeat        |1510506148|\n",
      "|31         |878    |open             |1510506152|\n",
      "|56         |973    |open             |1510506159|\n",
      "|78         |580    |finish_incomplete|1510506163|\n",
      "|4          |200    |finish_incomplete|1510506166|\n",
      "|64         |340    |finish_completed |1510506173|\n",
      "|18         |900    |open             |1510506177|\n",
      "|18         |900    |finish_completed |1510506185|\n",
      "|73         |252    |open             |1510506188|\n",
      "|15         |276    |open             |1510506192|\n",
      "|61         |123    |open             |1510506197|\n",
      "|3          |24     |finish_completed |1510506204|\n",
      "|3          |614    |open             |1510506207|\n",
      "|1          |693    |finish_completed |1510506212|\n",
      "|30         |684    |open             |1510506218|\n",
      "|28         |784    |open             |1510506222|\n",
      "|87         |47     |open             |1510506226|\n",
      "|13         |401    |open             |1510506234|\n",
      "|73         |70     |open             |1510506239|\n",
      "|73         |70     |open             |1510506240|\n",
      "|16         |45     |open             |1510506243|\n",
      "|54         |247    |heartbeat        |1510506246|\n",
      "|31         |878    |finish_completed |1510506255|\n",
      "|3          |614    |finish_incomplete|1510506259|\n",
      "|6          |869    |open             |1510506261|\n",
      "|56         |973    |finish_incomplete|1510506266|\n",
      "|49         |869    |open             |1510506271|\n",
      "|17         |750    |open             |1510506280|\n",
      "|0          |381    |open             |1510506285|\n",
      "|4          |731    |open             |1510506286|\n",
      "|87         |47     |finish_incomplete|1510506293|\n",
      "|73         |252    |finish_incomplete|1510506296|\n",
      "|50         |54     |open             |1510506303|\n",
      "|36         |549    |open             |1510506307|\n",
      "|85         |413    |finish_incomplete|1510506311|\n",
      "|46         |329    |open             |1510506316|\n",
      "|11         |265    |open             |1510506323|\n",
      "|86         |690    |open             |1510506327|\n",
      "|36         |197    |open             |1510506332|\n",
      "|36         |549    |open             |1510506331|\n",
      "|54         |729    |finish_completed |1510506340|\n",
      "+-----------+-------+-----------------+----------+\n",
      "only showing top 100 rows\n",
      "\n"
     ]
    }
   ],
   "source": [
    "# 'DataFrame.show()'는 테이블 형식으로 결과물을 출력함\n",
    "videoJSON.show(100, False)"
   ]
  },
  {
   "cell_type": "code",
   "execution_count": 11,
   "metadata": {},
   "outputs": [
    {
     "data": {
      "text/plain": [
       "1166450"
      ]
     },
     "execution_count": 11,
     "metadata": {},
     "output_type": "execute_result"
    }
   ],
   "source": [
    "videoJSON.count()"
   ]
  },
  {
   "cell_type": "code",
   "execution_count": 17,
   "metadata": {},
   "outputs": [
    {
     "data": {
      "text/plain": [
       "[Row(state='finish_incomplete'),\n",
       " Row(state='heartbeat'),\n",
       " Row(state='open'),\n",
       " Row(state='finish_completed')]"
      ]
     },
     "execution_count": 17,
     "metadata": {},
     "output_type": "execute_result"
    }
   ],
   "source": [
    "# 'DataFrame.collect()'는 각 행을 요소로 가진 리스트로 결과물을 출력함\n",
    "spark.sql(\"select distinct state from videoJSON\").collect()"
   ]
  },
  {
   "cell_type": "code",
   "execution_count": 20,
   "metadata": {},
   "outputs": [
    {
     "name": "stdout",
     "output_type": "stream",
     "text": [
      "+-------+--------+\n",
      "|show_id|cnt_open|\n",
      "+-------+--------+\n",
      "|     29|     676|\n",
      "|     26|     635|\n",
      "|    964|     666|\n",
      "|    474|     647|\n",
      "|    558|     649|\n",
      "|     65|     694|\n",
      "|    418|     684|\n",
      "|    191|     602|\n",
      "|    541|     643|\n",
      "|    270|     698|\n",
      "|    730|     644|\n",
      "|    293|     641|\n",
      "|    938|     690|\n",
      "|    222|     655|\n",
      "|    720|     720|\n",
      "|    367|     719|\n",
      "|    243|     709|\n",
      "|    442|     687|\n",
      "|    278|     708|\n",
      "|    705|     652|\n",
      "+-------+--------+\n",
      "only showing top 20 rows\n",
      "\n"
     ]
    }
   ],
   "source": [
    "# 'SparkSession.sql()'메소드는 transformation에 해당함. 즉, 새로운 dataframe을 반환함\n",
    "showid_with_state_open = spark.sql(\"select show_id, count(*) as cnt_open from videoJSON where state='open' group by show_id\")\n",
    "showid_with_state_open.show()"
   ]
  },
  {
   "cell_type": "code",
   "execution_count": 21,
   "metadata": {},
   "outputs": [
    {
     "name": "stdout",
     "output_type": "stream",
     "text": [
      "+-------+-------+\n",
      "|show_id|cnt_Fin|\n",
      "+-------+-------+\n",
      "|     29|    158|\n",
      "|     26|    177|\n",
      "|    964|    166|\n",
      "|    474|    186|\n",
      "|    418|    163|\n",
      "|     65|    190|\n",
      "|    541|    155|\n",
      "|    558|    152|\n",
      "|    191|    139|\n",
      "|    270|    180|\n",
      "|    938|    184|\n",
      "|    730|    160|\n",
      "|    222|    150|\n",
      "|    293|    169|\n",
      "|    720|    173|\n",
      "|    243|    175|\n",
      "|    442|    177|\n",
      "|    705|    146|\n",
      "|    367|    175|\n",
      "|    278|    159|\n",
      "+-------+-------+\n",
      "only showing top 20 rows\n",
      "\n"
     ]
    }
   ],
   "source": [
    "showid_with_state_incomplete = spark.sql(\"select show_id, count(*) as cnt_Fin from videoJSON where state='finish_incomplete' group by show_id\")\n",
    "showid_with_state_incomplete.show()"
   ]
  },
  {
   "cell_type": "code",
   "execution_count": 23,
   "metadata": {},
   "outputs": [
    {
     "data": {
      "text/plain": [
       "DataFrame[show_id: bigint, cnt_open: bigint, show_id: bigint, cnt_Fin: bigint]"
      ]
     },
     "execution_count": 23,
     "metadata": {},
     "output_type": "execute_result"
    }
   ],
   "source": [
    "# 'DataFrame.join()'메소드는 transformation에 해당함. 새로운 dataframe을 반환함\n",
    "left_join = showid_with_state_open.join(showid_with_state_incomplete, showid_with_state_open.show_id == showid_with_state_incomplete.show_id, how = 'left')\n",
    "left_joi함"
   ]
  },
  {
   "cell_type": "code",
   "execution_count": 24,
   "metadata": {},
   "outputs": [
    {
     "name": "stdout",
     "output_type": "stream",
     "text": [
      "+-------+--------+-------+-------+\n",
      "|show_id|cnt_open|show_id|cnt_Fin|\n",
      "+-------+--------+-------+-------+\n",
      "|     26|     635|     26|    177|\n",
      "|     29|     676|     29|    158|\n",
      "|    474|     647|    474|    186|\n",
      "|    964|     666|    964|    166|\n",
      "|     65|     694|     65|    190|\n",
      "|    191|     602|    191|    139|\n",
      "|    418|     684|    418|    163|\n",
      "|    541|     643|    541|    155|\n",
      "|    558|     649|    558|    152|\n",
      "|    222|     655|    222|    150|\n",
      "|    270|     698|    270|    180|\n",
      "|    293|     641|    293|    169|\n",
      "|    730|     644|    730|    160|\n",
      "|    938|     690|    938|    184|\n",
      "|    243|     709|    243|    175|\n",
      "|    278|     708|    278|    159|\n",
      "|    367|     719|    367|    175|\n",
      "|    442|     687|    442|    177|\n",
      "|    705|     652|    705|    146|\n",
      "|    720|     720|    720|    173|\n",
      "+-------+--------+-------+-------+\n",
      "only showing top 20 rows\n",
      "\n"
     ]
    }
   ],
   "source": [
    "left_join.show()"
   ]
  },
  {
   "cell_type": "code",
   "execution_count": 25,
   "metadata": {},
   "outputs": [],
   "source": [
    "import pandas as pd\n",
    "\n",
    "# 'DataFrame.toPandas()'메소드는 spark dataframe을 pandas dataframe으로 변환시킴\n",
    "left_join_PD = left_join.toPandas()"
   ]
  },
  {
   "cell_type": "code",
   "execution_count": 26,
   "metadata": {},
   "outputs": [
    {
     "data": {
      "text/html": [
       "<div>\n",
       "<style scoped>\n",
       "    .dataframe tbody tr th:only-of-type {\n",
       "        vertical-align: middle;\n",
       "    }\n",
       "\n",
       "    .dataframe tbody tr th {\n",
       "        vertical-align: top;\n",
       "    }\n",
       "\n",
       "    .dataframe thead th {\n",
       "        text-align: right;\n",
       "    }\n",
       "</style>\n",
       "<table border=\"1\" class=\"dataframe\">\n",
       "  <thead>\n",
       "    <tr style=\"text-align: right;\">\n",
       "      <th></th>\n",
       "      <th>show_id</th>\n",
       "      <th>cnt_open</th>\n",
       "      <th>show_id</th>\n",
       "      <th>cnt_Fin</th>\n",
       "      <th>ratio</th>\n",
       "    </tr>\n",
       "  </thead>\n",
       "  <tbody>\n",
       "    <tr>\n",
       "      <th>0</th>\n",
       "      <td>26</td>\n",
       "      <td>635</td>\n",
       "      <td>26</td>\n",
       "      <td>177</td>\n",
       "      <td>27.874016</td>\n",
       "    </tr>\n",
       "    <tr>\n",
       "      <th>1</th>\n",
       "      <td>29</td>\n",
       "      <td>676</td>\n",
       "      <td>29</td>\n",
       "      <td>158</td>\n",
       "      <td>23.372781</td>\n",
       "    </tr>\n",
       "    <tr>\n",
       "      <th>2</th>\n",
       "      <td>474</td>\n",
       "      <td>647</td>\n",
       "      <td>474</td>\n",
       "      <td>186</td>\n",
       "      <td>28.748068</td>\n",
       "    </tr>\n",
       "    <tr>\n",
       "      <th>3</th>\n",
       "      <td>964</td>\n",
       "      <td>666</td>\n",
       "      <td>964</td>\n",
       "      <td>166</td>\n",
       "      <td>24.924925</td>\n",
       "    </tr>\n",
       "    <tr>\n",
       "      <th>4</th>\n",
       "      <td>65</td>\n",
       "      <td>694</td>\n",
       "      <td>65</td>\n",
       "      <td>190</td>\n",
       "      <td>27.377522</td>\n",
       "    </tr>\n",
       "    <tr>\n",
       "      <th>...</th>\n",
       "      <td>...</td>\n",
       "      <td>...</td>\n",
       "      <td>...</td>\n",
       "      <td>...</td>\n",
       "      <td>...</td>\n",
       "    </tr>\n",
       "    <tr>\n",
       "      <th>995</th>\n",
       "      <td>458</td>\n",
       "      <td>651</td>\n",
       "      <td>458</td>\n",
       "      <td>178</td>\n",
       "      <td>27.342550</td>\n",
       "    </tr>\n",
       "    <tr>\n",
       "      <th>996</th>\n",
       "      <td>739</td>\n",
       "      <td>705</td>\n",
       "      <td>739</td>\n",
       "      <td>150</td>\n",
       "      <td>21.276596</td>\n",
       "    </tr>\n",
       "    <tr>\n",
       "      <th>997</th>\n",
       "      <td>211</td>\n",
       "      <td>671</td>\n",
       "      <td>211</td>\n",
       "      <td>160</td>\n",
       "      <td>23.845007</td>\n",
       "    </tr>\n",
       "    <tr>\n",
       "      <th>998</th>\n",
       "      <td>469</td>\n",
       "      <td>642</td>\n",
       "      <td>469</td>\n",
       "      <td>162</td>\n",
       "      <td>25.233645</td>\n",
       "    </tr>\n",
       "    <tr>\n",
       "      <th>999</th>\n",
       "      <td>526</td>\n",
       "      <td>694</td>\n",
       "      <td>526</td>\n",
       "      <td>164</td>\n",
       "      <td>23.631124</td>\n",
       "    </tr>\n",
       "  </tbody>\n",
       "</table>\n",
       "<p>1000 rows × 5 columns</p>\n",
       "</div>"
      ],
      "text/plain": [
       "     show_id  cnt_open  show_id  cnt_Fin      ratio\n",
       "0         26       635       26      177  27.874016\n",
       "1         29       676       29      158  23.372781\n",
       "2        474       647      474      186  28.748068\n",
       "3        964       666      964      166  24.924925\n",
       "4         65       694       65      190  27.377522\n",
       "..       ...       ...      ...      ...        ...\n",
       "995      458       651      458      178  27.342550\n",
       "996      739       705      739      150  21.276596\n",
       "997      211       671      211      160  23.845007\n",
       "998      469       642      469      162  25.233645\n",
       "999      526       694      526      164  23.631124\n",
       "\n",
       "[1000 rows x 5 columns]"
      ]
     },
     "execution_count": 26,
     "metadata": {},
     "output_type": "execute_result"
    }
   ],
   "source": [
    "left_join_PD['ratio'] = left_join_PD['cnt_Fin'] * 100 / left_join_PD['cnt_open']\n",
    "left_join_PD"
   ]
  }
 ],
 "metadata": {
  "kernelspec": {
   "display_name": "Python 3",
   "language": "python",
   "name": "python3"
  },
  "language_info": {
   "codemirror_mode": {
    "name": "ipython",
    "version": 3
   },
   "file_extension": ".py",
   "mimetype": "text/x-python",
   "name": "python",
   "nbconvert_exporter": "python",
   "pygments_lexer": "ipython3",
   "version": "3.7.1"
  }
 },
 "nbformat": 4,
 "nbformat_minor": 4
}
